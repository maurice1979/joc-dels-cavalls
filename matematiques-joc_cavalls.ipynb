{
 "cells": [
  {
   "cell_type": "code",
   "execution_count": 1,
   "metadata": {
    "ExecuteTime": {
     "end_time": "2020-04-26T06:23:22.182920Z",
     "start_time": "2020-04-26T06:23:22.164762Z"
    }
   },
   "outputs": [
    {
     "ename": "SyntaxError",
     "evalue": "invalid syntax (<ipython-input-1-27cf63f869bf>, line 1)",
     "output_type": "error",
     "traceback": [
      "\u001b[0;36m  File \u001b[0;32m\"<ipython-input-1-27cf63f869bf>\"\u001b[0;36m, line \u001b[0;32m1\u001b[0m\n\u001b[0;31m    [![Open In Colab](https://colab.research.google.com/assets/colab-badge.svg)](https://colab.research.google.com/github/maurice1979/joc-dels-cavalls/blob/master/matematiques-joc_cavalls.ipynb)\u001b[0m\n\u001b[0m     ^\u001b[0m\n\u001b[0;31mSyntaxError\u001b[0m\u001b[0;31m:\u001b[0m invalid syntax\n"
     ]
    }
   ],
   "source": [
    "[![Open In Colab](https://colab.research.google.com/assets/colab-badge.svg)](https://colab.research.google.com/github/maurice1979/joc-dels-cavalls/blob/master/matematiques-joc_cavalls.ipynb)"
   ]
  },
  {
   "cell_type": "markdown",
   "metadata": {},
   "source": [
    "Importem llibreries necessàries:"
   ]
  },
  {
   "cell_type": "code",
   "execution_count": 202,
   "metadata": {
    "ExecuteTime": {
     "end_time": "2020-04-25T14:17:18.070747Z",
     "start_time": "2020-04-25T14:17:18.018077Z"
    }
   },
   "outputs": [],
   "source": [
    "import random\n",
    "import pandas as pd\n",
    "from tqdm import tqdm\n",
    "\n",
    "import matplotlib\n",
    "%matplotlib inline"
   ]
  },
  {
   "cell_type": "markdown",
   "metadata": {},
   "source": [
    "# Funcions"
   ]
  },
  {
   "cell_type": "markdown",
   "metadata": {},
   "source": [
    "## Tira dau"
   ]
  },
  {
   "cell_type": "code",
   "execution_count": 259,
   "metadata": {
    "ExecuteTime": {
     "end_time": "2020-04-26T05:40:54.267233Z",
     "start_time": "2020-04-26T05:40:54.258553Z"
    }
   },
   "outputs": [],
   "source": [
    "def tira_dau():\n",
    "    \"\"\"Retorna un número a l'atzar entre 1 i 6.\"\"\"\n",
    "\n",
    "    return random.randint(1,6)"
   ]
  },
  {
   "cell_type": "markdown",
   "metadata": {},
   "source": [
    "Exemple d'ús:"
   ]
  },
  {
   "cell_type": "code",
   "execution_count": 30,
   "metadata": {
    "ExecuteTime": {
     "end_time": "2020-04-25T10:59:56.869364Z",
     "start_time": "2020-04-25T10:59:56.860356Z"
    }
   },
   "outputs": [
    {
     "data": {
      "text/plain": [
       "2"
      ]
     },
     "execution_count": 30,
     "metadata": {},
     "output_type": "execute_result"
    }
   ],
   "source": [
    "tira_dau()"
   ]
  },
  {
   "cell_type": "markdown",
   "metadata": {},
   "source": [
    "## Suma 2 daus"
   ]
  },
  {
   "cell_type": "code",
   "execution_count": 260,
   "metadata": {
    "ExecuteTime": {
     "end_time": "2020-04-26T05:42:29.743037Z",
     "start_time": "2020-04-26T05:42:29.733298Z"
    }
   },
   "outputs": [],
   "source": [
    "def suma_2_daus():\n",
    "    \"\"\"Retorna la suma de cridar la funció `tira_dau` dos cops.\"\"\"\n",
    "\n",
    "    return tira_dau()+tira_dau()"
   ]
  },
  {
   "cell_type": "markdown",
   "metadata": {},
   "source": [
    "Exemple d'ús:"
   ]
  },
  {
   "cell_type": "code",
   "execution_count": 40,
   "metadata": {
    "ExecuteTime": {
     "end_time": "2020-04-25T11:02:21.864324Z",
     "start_time": "2020-04-25T11:02:21.853090Z"
    }
   },
   "outputs": [
    {
     "data": {
      "text/plain": [
       "9"
      ]
     },
     "execution_count": 40,
     "metadata": {},
     "output_type": "execute_result"
    }
   ],
   "source": [
    "suma_2_daus()"
   ]
  },
  {
   "cell_type": "markdown",
   "metadata": {},
   "source": [
    "## Simula joc"
   ]
  },
  {
   "cell_type": "code",
   "execution_count": 264,
   "metadata": {
    "ExecuteTime": {
     "end_time": "2020-04-26T05:47:31.431035Z",
     "start_time": "2020-04-26T05:47:31.419669Z"
    }
   },
   "outputs": [],
   "source": [
    "def simula_joc():\n",
    "    \"\"\"Simula un partida, tirant 2 daus fins que un cavall assoleix 10 punts.\n",
    "    \n",
    "    Retorna\n",
    "    -------\n",
    "    guanyador: número del cavall guanyandor\n",
    "    marcador: resultat del marcador final\n",
    "\n",
    "    \"\"\"\n",
    "    # Inicialitzem marcador a zero\n",
    "    marcador = pd.DataFrame(columns=['marcador'],  index=[2,3,4,5,6,7,8,9,10,11,12])\n",
    "    marcador['marcador'] = 0\n",
    "    \n",
    "    # Anem tirant dos daus fins que un cavall assoleix 10 punts\n",
    "    while marcador['marcador'].max()<10:\n",
    "        tirada_daus = suma_2_daus()\n",
    "        valor_actual = marcador.loc[marcador.index == tirada_daus, 'marcador'].values[0]\n",
    "        nou_valor = valor_actual + 1\n",
    "        marcador.loc[marcador.index == tirada_daus, 'marcador'] = nou_valor\n",
    "    \n",
    "    # Extreiem el cavall guanyador buscant quin és el cavall que té 10 punts\n",
    "    guanyador = marcador.loc[marcador['marcador']==10].index[0]\n",
    "\n",
    "    return guanyador, marcador"
   ]
  },
  {
   "cell_type": "markdown",
   "metadata": {},
   "source": [
    "Exemple d'ús:"
   ]
  },
  {
   "cell_type": "code",
   "execution_count": 265,
   "metadata": {
    "ExecuteTime": {
     "end_time": "2020-04-26T05:47:34.444648Z",
     "start_time": "2020-04-26T05:47:34.344487Z"
    }
   },
   "outputs": [
    {
     "name": "stdout",
     "output_type": "stream",
     "text": [
      "Aquesta partida la guanya el cavall \"7\"\n"
     ]
    },
    {
     "data": {
      "text/html": [
       "<div>\n",
       "<style scoped>\n",
       "    .dataframe tbody tr th:only-of-type {\n",
       "        vertical-align: middle;\n",
       "    }\n",
       "\n",
       "    .dataframe tbody tr th {\n",
       "        vertical-align: top;\n",
       "    }\n",
       "\n",
       "    .dataframe thead th {\n",
       "        text-align: right;\n",
       "    }\n",
       "</style>\n",
       "<table border=\"1\" class=\"dataframe\">\n",
       "  <thead>\n",
       "    <tr style=\"text-align: right;\">\n",
       "      <th></th>\n",
       "      <th>marcador</th>\n",
       "    </tr>\n",
       "  </thead>\n",
       "  <tbody>\n",
       "    <tr>\n",
       "      <th>2</th>\n",
       "      <td>0</td>\n",
       "    </tr>\n",
       "    <tr>\n",
       "      <th>3</th>\n",
       "      <td>3</td>\n",
       "    </tr>\n",
       "    <tr>\n",
       "      <th>4</th>\n",
       "      <td>3</td>\n",
       "    </tr>\n",
       "    <tr>\n",
       "      <th>5</th>\n",
       "      <td>8</td>\n",
       "    </tr>\n",
       "    <tr>\n",
       "      <th>6</th>\n",
       "      <td>8</td>\n",
       "    </tr>\n",
       "    <tr>\n",
       "      <th>7</th>\n",
       "      <td>10</td>\n",
       "    </tr>\n",
       "    <tr>\n",
       "      <th>8</th>\n",
       "      <td>5</td>\n",
       "    </tr>\n",
       "    <tr>\n",
       "      <th>9</th>\n",
       "      <td>4</td>\n",
       "    </tr>\n",
       "    <tr>\n",
       "      <th>10</th>\n",
       "      <td>6</td>\n",
       "    </tr>\n",
       "    <tr>\n",
       "      <th>11</th>\n",
       "      <td>2</td>\n",
       "    </tr>\n",
       "    <tr>\n",
       "      <th>12</th>\n",
       "      <td>1</td>\n",
       "    </tr>\n",
       "  </tbody>\n",
       "</table>\n",
       "</div>"
      ],
      "text/plain": [
       "    marcador\n",
       "2          0\n",
       "3          3\n",
       "4          3\n",
       "5          8\n",
       "6          8\n",
       "7         10\n",
       "8          5\n",
       "9          4\n",
       "10         6\n",
       "11         2\n",
       "12         1"
      ]
     },
     "execution_count": 265,
     "metadata": {},
     "output_type": "execute_result"
    }
   ],
   "source": [
    "guanyador, marcador = simula_joc()\n",
    "print(f'Aquesta partida la guanya el cavall \"{guanyador}\"')\n",
    "marcador"
   ]
  },
  {
   "cell_type": "markdown",
   "metadata": {
    "ExecuteTime": {
     "end_time": "2020-04-26T05:51:06.893039Z",
     "start_time": "2020-04-26T05:51:06.883781Z"
    }
   },
   "source": [
    "## Simula partides"
   ]
  },
  {
   "cell_type": "code",
   "execution_count": 206,
   "metadata": {
    "ExecuteTime": {
     "end_time": "2020-04-25T14:17:58.449728Z",
     "start_time": "2020-04-25T14:17:58.434853Z"
    }
   },
   "outputs": [],
   "source": [
    "def simula_partides(n_partides=20):\n",
    "    \"\"\"Simula el resultat de jugar `n_partides`.\n",
    "    \n",
    "    Parametres\n",
    "    ----------\n",
    "    n_partides: nombre de partides que volem simular, opcional\n",
    "        Per defecte simula 20 partides.\n",
    "        \n",
    "    Retorna\n",
    "    -------\n",
    "    partides : llista de `n_partides` amb el cavall guanyador a cada partida\n",
    "    \n",
    "    \"\"\"\n",
    "\n",
    "    partides = pd.DataFrame(columns=['guanyador'])\n",
    "    \n",
    "    # Iterem `n_partides` vegades\n",
    "    for i in tqdm(range(0, n_partides)):\n",
    "        guanyador, resultat_partida = simula_joc()\n",
    "        partides = partides.append(pd.DataFrame([guanyador], columns=['guanyador']), ignore_index=True)\n",
    "    \n",
    "    partides['guanyador'] = pd.to_numeric(partides['guanyador'])\n",
    "\n",
    "    return partides"
   ]
  },
  {
   "cell_type": "markdown",
   "metadata": {},
   "source": [
    "Exemple d'ús:"
   ]
  },
  {
   "cell_type": "code",
   "execution_count": 267,
   "metadata": {
    "ExecuteTime": {
     "end_time": "2020-04-26T05:52:11.173868Z",
     "start_time": "2020-04-26T05:52:10.196948Z"
    }
   },
   "outputs": [
    {
     "name": "stderr",
     "output_type": "stream",
     "text": [
      "100%|██████████| 20/20 [00:00<00:00, 20.89it/s]\n"
     ]
    },
    {
     "data": {
      "text/html": [
       "<div>\n",
       "<style scoped>\n",
       "    .dataframe tbody tr th:only-of-type {\n",
       "        vertical-align: middle;\n",
       "    }\n",
       "\n",
       "    .dataframe tbody tr th {\n",
       "        vertical-align: top;\n",
       "    }\n",
       "\n",
       "    .dataframe thead th {\n",
       "        text-align: right;\n",
       "    }\n",
       "</style>\n",
       "<table border=\"1\" class=\"dataframe\">\n",
       "  <thead>\n",
       "    <tr style=\"text-align: right;\">\n",
       "      <th></th>\n",
       "      <th>guanyador</th>\n",
       "    </tr>\n",
       "  </thead>\n",
       "  <tbody>\n",
       "    <tr>\n",
       "      <th>0</th>\n",
       "      <td>7</td>\n",
       "    </tr>\n",
       "    <tr>\n",
       "      <th>1</th>\n",
       "      <td>6</td>\n",
       "    </tr>\n",
       "    <tr>\n",
       "      <th>2</th>\n",
       "      <td>6</td>\n",
       "    </tr>\n",
       "    <tr>\n",
       "      <th>3</th>\n",
       "      <td>6</td>\n",
       "    </tr>\n",
       "    <tr>\n",
       "      <th>4</th>\n",
       "      <td>10</td>\n",
       "    </tr>\n",
       "    <tr>\n",
       "      <th>5</th>\n",
       "      <td>6</td>\n",
       "    </tr>\n",
       "    <tr>\n",
       "      <th>6</th>\n",
       "      <td>7</td>\n",
       "    </tr>\n",
       "    <tr>\n",
       "      <th>7</th>\n",
       "      <td>9</td>\n",
       "    </tr>\n",
       "    <tr>\n",
       "      <th>8</th>\n",
       "      <td>8</td>\n",
       "    </tr>\n",
       "    <tr>\n",
       "      <th>9</th>\n",
       "      <td>7</td>\n",
       "    </tr>\n",
       "    <tr>\n",
       "      <th>10</th>\n",
       "      <td>8</td>\n",
       "    </tr>\n",
       "    <tr>\n",
       "      <th>11</th>\n",
       "      <td>6</td>\n",
       "    </tr>\n",
       "    <tr>\n",
       "      <th>12</th>\n",
       "      <td>6</td>\n",
       "    </tr>\n",
       "    <tr>\n",
       "      <th>13</th>\n",
       "      <td>7</td>\n",
       "    </tr>\n",
       "    <tr>\n",
       "      <th>14</th>\n",
       "      <td>9</td>\n",
       "    </tr>\n",
       "    <tr>\n",
       "      <th>15</th>\n",
       "      <td>6</td>\n",
       "    </tr>\n",
       "    <tr>\n",
       "      <th>16</th>\n",
       "      <td>5</td>\n",
       "    </tr>\n",
       "    <tr>\n",
       "      <th>17</th>\n",
       "      <td>6</td>\n",
       "    </tr>\n",
       "    <tr>\n",
       "      <th>18</th>\n",
       "      <td>7</td>\n",
       "    </tr>\n",
       "    <tr>\n",
       "      <th>19</th>\n",
       "      <td>7</td>\n",
       "    </tr>\n",
       "  </tbody>\n",
       "</table>\n",
       "</div>"
      ],
      "text/plain": [
       "    guanyador\n",
       "0           7\n",
       "1           6\n",
       "2           6\n",
       "3           6\n",
       "4          10\n",
       "5           6\n",
       "6           7\n",
       "7           9\n",
       "8           8\n",
       "9           7\n",
       "10          8\n",
       "11          6\n",
       "12          6\n",
       "13          7\n",
       "14          9\n",
       "15          6\n",
       "16          5\n",
       "17          6\n",
       "18          7\n",
       "19          7"
      ]
     },
     "execution_count": 267,
     "metadata": {},
     "output_type": "execute_result"
    }
   ],
   "source": [
    "resultats_partides = simula_partides() # simula 20 partides\n",
    "resultats_partides"
   ]
  },
  {
   "cell_type": "markdown",
   "metadata": {},
   "source": [
    "# Simulació de molts jocs\n",
    "\n",
    "En aquesta secció podem simular el nombre de jocs que volguem. No s'aconsella superar el milió de partides perquè les simulacions podrien trigar moltes hores."
   ]
  },
  {
   "cell_type": "code",
   "execution_count": 271,
   "metadata": {
    "ExecuteTime": {
     "end_time": "2020-04-26T06:01:41.946149Z",
     "start_time": "2020-04-26T06:01:41.938485Z"
    }
   },
   "outputs": [],
   "source": [
    "nombre_de_partides_a_jugar = 100 "
   ]
  },
  {
   "cell_type": "code",
   "execution_count": 272,
   "metadata": {
    "ExecuteTime": {
     "end_time": "2020-04-26T06:01:47.630868Z",
     "start_time": "2020-04-26T06:01:42.739317Z"
    }
   },
   "outputs": [
    {
     "name": "stderr",
     "output_type": "stream",
     "text": [
      "100%|██████████| 100/100 [00:04<00:00, 20.52it/s]\n"
     ]
    }
   ],
   "source": [
    "resultats_partides = simula_partides(n_partides=nombre_de_partides_a_jugar)"
   ]
  },
  {
   "cell_type": "markdown",
   "metadata": {},
   "source": [
    "Podem visualitzar el resultat, però no dona gaire informació"
   ]
  },
  {
   "cell_type": "code",
   "execution_count": 273,
   "metadata": {
    "ExecuteTime": {
     "end_time": "2020-04-26T06:01:47.653996Z",
     "start_time": "2020-04-26T06:01:47.637088Z"
    }
   },
   "outputs": [
    {
     "data": {
      "text/html": [
       "<div>\n",
       "<style scoped>\n",
       "    .dataframe tbody tr th:only-of-type {\n",
       "        vertical-align: middle;\n",
       "    }\n",
       "\n",
       "    .dataframe tbody tr th {\n",
       "        vertical-align: top;\n",
       "    }\n",
       "\n",
       "    .dataframe thead th {\n",
       "        text-align: right;\n",
       "    }\n",
       "</style>\n",
       "<table border=\"1\" class=\"dataframe\">\n",
       "  <thead>\n",
       "    <tr style=\"text-align: right;\">\n",
       "      <th></th>\n",
       "      <th>guanyador</th>\n",
       "    </tr>\n",
       "  </thead>\n",
       "  <tbody>\n",
       "    <tr>\n",
       "      <th>0</th>\n",
       "      <td>6</td>\n",
       "    </tr>\n",
       "    <tr>\n",
       "      <th>1</th>\n",
       "      <td>7</td>\n",
       "    </tr>\n",
       "    <tr>\n",
       "      <th>2</th>\n",
       "      <td>7</td>\n",
       "    </tr>\n",
       "    <tr>\n",
       "      <th>3</th>\n",
       "      <td>5</td>\n",
       "    </tr>\n",
       "    <tr>\n",
       "      <th>4</th>\n",
       "      <td>7</td>\n",
       "    </tr>\n",
       "    <tr>\n",
       "      <th>5</th>\n",
       "      <td>5</td>\n",
       "    </tr>\n",
       "    <tr>\n",
       "      <th>6</th>\n",
       "      <td>8</td>\n",
       "    </tr>\n",
       "    <tr>\n",
       "      <th>7</th>\n",
       "      <td>6</td>\n",
       "    </tr>\n",
       "    <tr>\n",
       "      <th>8</th>\n",
       "      <td>7</td>\n",
       "    </tr>\n",
       "    <tr>\n",
       "      <th>9</th>\n",
       "      <td>7</td>\n",
       "    </tr>\n",
       "    <tr>\n",
       "      <th>10</th>\n",
       "      <td>6</td>\n",
       "    </tr>\n",
       "    <tr>\n",
       "      <th>11</th>\n",
       "      <td>7</td>\n",
       "    </tr>\n",
       "    <tr>\n",
       "      <th>12</th>\n",
       "      <td>7</td>\n",
       "    </tr>\n",
       "    <tr>\n",
       "      <th>13</th>\n",
       "      <td>7</td>\n",
       "    </tr>\n",
       "    <tr>\n",
       "      <th>14</th>\n",
       "      <td>8</td>\n",
       "    </tr>\n",
       "    <tr>\n",
       "      <th>15</th>\n",
       "      <td>7</td>\n",
       "    </tr>\n",
       "    <tr>\n",
       "      <th>16</th>\n",
       "      <td>4</td>\n",
       "    </tr>\n",
       "    <tr>\n",
       "      <th>17</th>\n",
       "      <td>7</td>\n",
       "    </tr>\n",
       "    <tr>\n",
       "      <th>18</th>\n",
       "      <td>8</td>\n",
       "    </tr>\n",
       "    <tr>\n",
       "      <th>19</th>\n",
       "      <td>8</td>\n",
       "    </tr>\n",
       "    <tr>\n",
       "      <th>20</th>\n",
       "      <td>6</td>\n",
       "    </tr>\n",
       "    <tr>\n",
       "      <th>21</th>\n",
       "      <td>8</td>\n",
       "    </tr>\n",
       "    <tr>\n",
       "      <th>22</th>\n",
       "      <td>4</td>\n",
       "    </tr>\n",
       "    <tr>\n",
       "      <th>23</th>\n",
       "      <td>7</td>\n",
       "    </tr>\n",
       "    <tr>\n",
       "      <th>24</th>\n",
       "      <td>8</td>\n",
       "    </tr>\n",
       "    <tr>\n",
       "      <th>25</th>\n",
       "      <td>9</td>\n",
       "    </tr>\n",
       "    <tr>\n",
       "      <th>26</th>\n",
       "      <td>8</td>\n",
       "    </tr>\n",
       "    <tr>\n",
       "      <th>27</th>\n",
       "      <td>6</td>\n",
       "    </tr>\n",
       "    <tr>\n",
       "      <th>28</th>\n",
       "      <td>6</td>\n",
       "    </tr>\n",
       "    <tr>\n",
       "      <th>29</th>\n",
       "      <td>7</td>\n",
       "    </tr>\n",
       "    <tr>\n",
       "      <th>...</th>\n",
       "      <td>...</td>\n",
       "    </tr>\n",
       "    <tr>\n",
       "      <th>70</th>\n",
       "      <td>7</td>\n",
       "    </tr>\n",
       "    <tr>\n",
       "      <th>71</th>\n",
       "      <td>7</td>\n",
       "    </tr>\n",
       "    <tr>\n",
       "      <th>72</th>\n",
       "      <td>6</td>\n",
       "    </tr>\n",
       "    <tr>\n",
       "      <th>73</th>\n",
       "      <td>7</td>\n",
       "    </tr>\n",
       "    <tr>\n",
       "      <th>74</th>\n",
       "      <td>6</td>\n",
       "    </tr>\n",
       "    <tr>\n",
       "      <th>75</th>\n",
       "      <td>6</td>\n",
       "    </tr>\n",
       "    <tr>\n",
       "      <th>76</th>\n",
       "      <td>7</td>\n",
       "    </tr>\n",
       "    <tr>\n",
       "      <th>77</th>\n",
       "      <td>7</td>\n",
       "    </tr>\n",
       "    <tr>\n",
       "      <th>78</th>\n",
       "      <td>7</td>\n",
       "    </tr>\n",
       "    <tr>\n",
       "      <th>79</th>\n",
       "      <td>7</td>\n",
       "    </tr>\n",
       "    <tr>\n",
       "      <th>80</th>\n",
       "      <td>6</td>\n",
       "    </tr>\n",
       "    <tr>\n",
       "      <th>81</th>\n",
       "      <td>4</td>\n",
       "    </tr>\n",
       "    <tr>\n",
       "      <th>82</th>\n",
       "      <td>6</td>\n",
       "    </tr>\n",
       "    <tr>\n",
       "      <th>83</th>\n",
       "      <td>9</td>\n",
       "    </tr>\n",
       "    <tr>\n",
       "      <th>84</th>\n",
       "      <td>7</td>\n",
       "    </tr>\n",
       "    <tr>\n",
       "      <th>85</th>\n",
       "      <td>6</td>\n",
       "    </tr>\n",
       "    <tr>\n",
       "      <th>86</th>\n",
       "      <td>5</td>\n",
       "    </tr>\n",
       "    <tr>\n",
       "      <th>87</th>\n",
       "      <td>8</td>\n",
       "    </tr>\n",
       "    <tr>\n",
       "      <th>88</th>\n",
       "      <td>6</td>\n",
       "    </tr>\n",
       "    <tr>\n",
       "      <th>89</th>\n",
       "      <td>7</td>\n",
       "    </tr>\n",
       "    <tr>\n",
       "      <th>90</th>\n",
       "      <td>7</td>\n",
       "    </tr>\n",
       "    <tr>\n",
       "      <th>91</th>\n",
       "      <td>7</td>\n",
       "    </tr>\n",
       "    <tr>\n",
       "      <th>92</th>\n",
       "      <td>6</td>\n",
       "    </tr>\n",
       "    <tr>\n",
       "      <th>93</th>\n",
       "      <td>8</td>\n",
       "    </tr>\n",
       "    <tr>\n",
       "      <th>94</th>\n",
       "      <td>8</td>\n",
       "    </tr>\n",
       "    <tr>\n",
       "      <th>95</th>\n",
       "      <td>9</td>\n",
       "    </tr>\n",
       "    <tr>\n",
       "      <th>96</th>\n",
       "      <td>7</td>\n",
       "    </tr>\n",
       "    <tr>\n",
       "      <th>97</th>\n",
       "      <td>6</td>\n",
       "    </tr>\n",
       "    <tr>\n",
       "      <th>98</th>\n",
       "      <td>7</td>\n",
       "    </tr>\n",
       "    <tr>\n",
       "      <th>99</th>\n",
       "      <td>7</td>\n",
       "    </tr>\n",
       "  </tbody>\n",
       "</table>\n",
       "<p>100 rows × 1 columns</p>\n",
       "</div>"
      ],
      "text/plain": [
       "    guanyador\n",
       "0           6\n",
       "1           7\n",
       "2           7\n",
       "3           5\n",
       "4           7\n",
       "5           5\n",
       "6           8\n",
       "7           6\n",
       "8           7\n",
       "9           7\n",
       "10          6\n",
       "11          7\n",
       "12          7\n",
       "13          7\n",
       "14          8\n",
       "15          7\n",
       "16          4\n",
       "17          7\n",
       "18          8\n",
       "19          8\n",
       "20          6\n",
       "21          8\n",
       "22          4\n",
       "23          7\n",
       "24          8\n",
       "25          9\n",
       "26          8\n",
       "27          6\n",
       "28          6\n",
       "29          7\n",
       "..        ...\n",
       "70          7\n",
       "71          7\n",
       "72          6\n",
       "73          7\n",
       "74          6\n",
       "75          6\n",
       "76          7\n",
       "77          7\n",
       "78          7\n",
       "79          7\n",
       "80          6\n",
       "81          4\n",
       "82          6\n",
       "83          9\n",
       "84          7\n",
       "85          6\n",
       "86          5\n",
       "87          8\n",
       "88          6\n",
       "89          7\n",
       "90          7\n",
       "91          7\n",
       "92          6\n",
       "93          8\n",
       "94          8\n",
       "95          9\n",
       "96          7\n",
       "97          6\n",
       "98          7\n",
       "99          7\n",
       "\n",
       "[100 rows x 1 columns]"
      ]
     },
     "execution_count": 273,
     "metadata": {},
     "output_type": "execute_result"
    }
   ],
   "source": [
    "resultats_partides"
   ]
  },
  {
   "cell_type": "markdown",
   "metadata": {},
   "source": [
    "# Percentatge de partides guanyades per cavall"
   ]
  },
  {
   "cell_type": "code",
   "execution_count": 274,
   "metadata": {
    "ExecuteTime": {
     "end_time": "2020-04-26T06:01:53.761212Z",
     "start_time": "2020-04-26T06:01:53.734938Z"
    }
   },
   "outputs": [
    {
     "name": "stdout",
     "output_type": "stream",
     "text": [
      "Número 2: 0 partides guanyades en 100 partides jugades: 0.00%\n",
      "Número 3: 0 partides guanyades en 100 partides jugades: 0.00%\n",
      "Número 4: 3 partides guanyades en 100 partides jugades: 3.00%\n",
      "Número 5: 7 partides guanyades en 100 partides jugades: 7.00%\n",
      "Número 6: 24 partides guanyades en 100 partides jugades: 24.00%\n",
      "Número 7: 43 partides guanyades en 100 partides jugades: 43.00%\n",
      "Número 8: 18 partides guanyades en 100 partides jugades: 18.00%\n",
      "Número 9: 5 partides guanyades en 100 partides jugades: 5.00%\n",
      "Número 10: 0 partides guanyades en 100 partides jugades: 0.00%\n",
      "Número 11: 0 partides guanyades en 100 partides jugades: 0.00%\n",
      "Número 12: 0 partides guanyades en 100 partides jugades: 0.00%\n"
     ]
    }
   ],
   "source": [
    "n_partides = len(resultats_partides)\n",
    "for i in range(2,13):\n",
    "    partides_guanyades = len(resultats_partides.loc[resultats_partides['guanyador']==i])\n",
    "    percent = (partides_guanyades / n_partides) * 100\n",
    "    print(f'Número {i}: {partides_guanyades} partides guanyades en {n_partides} partides jugades: {percent:.2f}%')"
   ]
  },
  {
   "cell_type": "markdown",
   "metadata": {},
   "source": [
    "## Histograma\n",
    "\n",
    "L'histograma és un gràfic mostra la suma del nombre de vegades que guanya un determinat cavall i ho representa en forma de barres. Com més altra és la barra, més vegades ha guanyat aquell cavall.\n",
    "\n",
    "La suma del valor de totes les barres ha de ser igual que el nombre de partides jugades."
   ]
  },
  {
   "cell_type": "code",
   "execution_count": 276,
   "metadata": {
    "ExecuteTime": {
     "end_time": "2020-04-26T06:03:19.643747Z",
     "start_time": "2020-04-26T06:03:19.160787Z"
    },
    "scrolled": false
   },
   "outputs": [
    {
     "data": {
      "text/plain": [
       "Text(0, 0.5, 'Nombre de jocs guanyats')"
      ]
     },
     "execution_count": 276,
     "metadata": {},
     "output_type": "execute_result"
    },
    {
     "data": {
      "image/png": "[encoded data removed]",
      "text/plain": [
       "<Figure size 864x648 with 1 Axes>"
      ]
     },
     "metadata": {
      "needs_background": "light"
     },
     "output_type": "display_data"
    }
   ],
   "source": [
    "bar = pd.DataFrame(resultats_partides['guanyador'].value_counts())\n",
    "bar.sort_index(inplace=True)\n",
    "\n",
    "ax = bar.plot(\n",
    "    kind='bar',\n",
    "    figsize=(12,9),\n",
    "    grid=True,\n",
    "    title=f'Nombre de jocs guanyats per cavall en {n_partides} partides'\n",
    ")\n",
    "ax.set_xlabel('Cavall')\n",
    "ax.set_ylabel('Nombre de jocs guanyats')"
   ]
  },
  {
   "cell_type": "code",
   "execution_count": null,
   "metadata": {},
   "outputs": [],
   "source": [
    "Número 2: 0 partides guanyades en 100000 partides jugades: 0.00%\n",
    "Número 3: 111 partides guanyades en 100000 partides jugades: 0.11%\n",
    "Número 4: 1572 partides guanyades en 100000 partides jugades: 1.57%\n",
    "Número 5: 7283 partides guanyades en 100000 partides jugades: 7.28%\n",
    "Número 6: 20352 partides guanyades en 100000 partides jugades: 20.35%\n",
    "Número 7: 41534 partides guanyades en 100000 partides jugades: 41.53%\n",
    "Número 8: 20135 partides guanyades en 100000 partides jugades: 20.14%\n",
    "Número 9: 7244 partides guanyades en 100000 partides jugades: 7.24%\n",
    "Número 10: 1639 partides guanyades en 100000 partides jugades: 1.64%\n",
    "Número 11: 130 partides guanyades en 100000 partides jugades: 0.13%\n",
    "Número 12: 0 partides guanyades en 100000 partides jugades: 0.00%"
   ]
  }
 ],
 "metadata": {
  "kernelspec": {
   "display_name": "Python [conda env:nndeploy_py36_dev]",
   "language": "python",
   "name": "conda-env-nndeploy_py36_dev-py"
  },
  "language_info": {
   "codemirror_mode": {
    "name": "ipython",
    "version": 3
   },
   "file_extension": ".py",
   "mimetype": "text/x-python",
   "name": "python",
   "nbconvert_exporter": "python",
   "pygments_lexer": "ipython3",
   "version": "3.6.7"
  },
  "toc": {
   "base_numbering": 1,
   "nav_menu": {},
   "number_sections": true,
   "sideBar": true,
   "skip_h1_title": false,
   "title_cell": "Table of Contents",
   "title_sidebar": "Contents",
   "toc_cell": false,
   "toc_position": {},
   "toc_section_display": true,
   "toc_window_display": true
  }
 },
 "nbformat": 4,
 "nbformat_minor": 2
}
