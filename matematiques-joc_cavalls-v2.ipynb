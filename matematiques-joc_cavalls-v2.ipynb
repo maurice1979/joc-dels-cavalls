{
 "cells": [
  {
   "cell_type": "markdown",
   "metadata": {
    "ExecuteTime": {
     "end_time": "2020-04-26T06:23:22.182920Z",
     "start_time": "2020-04-26T06:23:22.164762Z"
    }
   },
   "source": [
    "[![Open In Colab](https://colab.research.google.com/assets/colab-badge.svg)](https://colab.research.google.com/github/maurice1979/joc-dels-cavalls/blob/master/matematiques-joc_cavalls-v2.ipynb)"
   ]
  },
  {
   "cell_type": "markdown",
   "metadata": {},
   "source": [
    "Importem llibreries necessàries:"
   ]
  },
  {
   "cell_type": "code",
   "execution_count": null,
   "metadata": {
    "ExecuteTime": {
     "end_time": "2020-04-26T06:45:38.665247Z",
     "start_time": "2020-04-26T06:45:36.775306Z"
    }
   },
   "outputs": [],
   "source": [
    "import random\n",
    "import pandas as pd\n",
    "from tqdm import tqdm\n",
    "\n",
    "import matplotlib\n",
    "%matplotlib inline"
   ]
  },
  {
   "cell_type": "markdown",
   "metadata": {},
   "source": [
    "# Funcions"
   ]
  },
  {
   "cell_type": "markdown",
   "metadata": {},
   "source": [
    "## Tira dau"
   ]
  },
  {
   "cell_type": "code",
   "execution_count": null,
   "metadata": {
    "ExecuteTime": {
     "end_time": "2020-04-26T06:45:38.679543Z",
     "start_time": "2020-04-26T06:45:38.668001Z"
    }
   },
   "outputs": [],
   "source": [
    "def tira_dau():\n",
    "    \"\"\"Retorna un número a l'atzar entre 1 i 6.\"\"\"\n",
    "\n",
    "    return random.randint(1,6)"
   ]
  },
  {
   "cell_type": "markdown",
   "metadata": {},
   "source": [
    "Exemple d'ús:"
   ]
  },
  {
   "cell_type": "code",
   "execution_count": null,
   "metadata": {
    "ExecuteTime": {
     "end_time": "2020-04-26T06:45:38.698583Z",
     "start_time": "2020-04-26T06:45:38.686786Z"
    }
   },
   "outputs": [],
   "source": [
    "tira_dau()"
   ]
  },
  {
   "cell_type": "markdown",
   "metadata": {},
   "source": [
    "## Suma 2 daus"
   ]
  },
  {
   "cell_type": "code",
   "execution_count": null,
   "metadata": {
    "ExecuteTime": {
     "end_time": "2020-04-26T06:45:38.731946Z",
     "start_time": "2020-04-26T06:45:38.709128Z"
    }
   },
   "outputs": [],
   "source": [
    "def suma_2_daus():\n",
    "    \"\"\"Retorna la suma de cridar la funció `tira_dau` dos cops.\"\"\"\n",
    "\n",
    "    return tira_dau()+tira_dau()"
   ]
  },
  {
   "cell_type": "markdown",
   "metadata": {},
   "source": [
    "Exemple d'ús:"
   ]
  },
  {
   "cell_type": "code",
   "execution_count": null,
   "metadata": {
    "ExecuteTime": {
     "end_time": "2020-04-26T06:45:38.744513Z",
     "start_time": "2020-04-26T06:45:38.734583Z"
    }
   },
   "outputs": [],
   "source": [
    "suma_2_daus()"
   ]
  },
  {
   "cell_type": "markdown",
   "metadata": {},
   "source": [
    "## Simula joc"
   ]
  },
  {
   "cell_type": "code",
   "execution_count": null,
   "metadata": {
    "ExecuteTime": {
     "end_time": "2020-04-26T07:10:11.625336Z",
     "start_time": "2020-04-26T07:10:11.594961Z"
    }
   },
   "outputs": [],
   "source": [
    "def simula_joc():\n",
    "    \"\"\"Simula un partida, tirant 2 daus fins que un cavall assoleix 10 punts.\n",
    "    \n",
    "    Retorna\n",
    "    -------\n",
    "    guanyador: número del cavall guanyandor\n",
    "    marcador: resultat del marcador final\n",
    "\n",
    "    \"\"\"\n",
    "    # Inicialitzem marcador a zero\n",
    "    marcador = pd.DataFrame(columns=['marcador'],  index=[2,3,4,5,6,7,8,9,10,11,12])\n",
    "    marcador['marcador'] = 0\n",
    "    \n",
    "    # Anem tirant dos daus fins que un cavall assoleix 10 punts\n",
    "    while marcador['marcador'].max()<10:\n",
    "        tirada_daus = suma_2_daus()\n",
    "        valor_actual = marcador.loc[marcador.index == tirada_daus, 'marcador'].values[0]\n",
    "        nou_valor = valor_actual + 1\n",
    "        marcador.loc[marcador.index == tirada_daus, 'marcador'] = nou_valor\n",
    "    \n",
    "    # Extreiem el cavall guanyador buscant quin és el cavall que té 10 punts\n",
    "    guanyador = marcador.loc[marcador['marcador']==10].index[0]\n",
    "\n",
    "    return guanyador, marcador"
   ]
  },
  {
   "cell_type": "markdown",
   "metadata": {},
   "source": [
    "Exemple d'ús:"
   ]
  },
  {
   "cell_type": "code",
   "execution_count": null,
   "metadata": {
    "ExecuteTime": {
     "end_time": "2020-04-26T07:03:47.846760Z",
     "start_time": "2020-04-26T07:03:47.749531Z"
    }
   },
   "outputs": [],
   "source": [
    "guanyador = simula_joc()\n",
    "print(f'Aquesta partida la guanya el cavall \"{guanyador}\"')\n",
    "#marcador"
   ]
  },
  {
   "cell_type": "markdown",
   "metadata": {
    "ExecuteTime": {
     "end_time": "2020-04-26T05:51:06.893039Z",
     "start_time": "2020-04-26T05:51:06.883781Z"
    }
   },
   "source": [
    "## Simula partides"
   ]
  },
  {
   "cell_type": "code",
   "execution_count": null,
   "metadata": {
    "ExecuteTime": {
     "end_time": "2020-04-26T07:24:46.921512Z",
     "start_time": "2020-04-26T07:24:46.913669Z"
    }
   },
   "outputs": [],
   "source": [
    "def simula_partides(n_partides=20):\n",
    "    \"\"\"Simula el resultat de jugar `n_partides`.\n",
    "    \n",
    "    Parametres\n",
    "    ----------\n",
    "    n_partides: nombre de partides que volem simular, opcional\n",
    "        Per defecte simula 20 partides.\n",
    "        \n",
    "    Retorna\n",
    "    -------\n",
    "    partides : llista de `n_partides` amb el cavall guanyador a cada partida\n",
    "    \n",
    "    \"\"\"\n",
    "\n",
    "    partides = pd.DataFrame(columns=['guanyador'], index=range(0, n_partides))\n",
    "    partides['guanyador'] = partides['guanyador'].apply(lambda x: simula_joc()[0])\n",
    "\n",
    "    return partides"
   ]
  },
  {
   "cell_type": "markdown",
   "metadata": {},
   "source": [
    "Exemple d'ús:"
   ]
  },
  {
   "cell_type": "code",
   "execution_count": null,
   "metadata": {
    "ExecuteTime": {
     "end_time": "2020-04-26T07:25:28.195674Z",
     "start_time": "2020-04-26T07:25:12.989Z"
    }
   },
   "outputs": [],
   "source": [
    "resultats_partides = simula_partides() # simula 20 partides\n",
    "resultats_partides"
   ]
  },
  {
   "cell_type": "markdown",
   "metadata": {},
   "source": [
    "# Simulació de molts jocs\n",
    "\n",
    "En aquesta secció podem simular el nombre de jocs que volguem. No s'aconsella superar les 100,000 partides perquè les simulacions podrien trigar moltes hores."
   ]
  },
  {
   "cell_type": "code",
   "execution_count": null,
   "metadata": {
    "ExecuteTime": {
     "end_time": "2020-04-26T07:30:07.797563Z",
     "start_time": "2020-04-26T07:30:07.770563Z"
    }
   },
   "outputs": [],
   "source": [
    "nombre_de_partides_a_jugar = 1000"
   ]
  },
  {
   "cell_type": "code",
   "execution_count": null,
   "metadata": {
    "ExecuteTime": {
     "end_time": "2020-04-26T07:30:52.757765Z",
     "start_time": "2020-04-26T07:30:07.924030Z"
    }
   },
   "outputs": [],
   "source": [
    "resultats_partides = simula_partides(n_partides=nombre_de_partides_a_jugar)"
   ]
  },
  {
   "cell_type": "markdown",
   "metadata": {},
   "source": [
    "Podem visualitzar el resultat, però no dona gaire informació"
   ]
  },
  {
   "cell_type": "code",
   "execution_count": null,
   "metadata": {
    "ExecuteTime": {
     "end_time": "2020-04-26T07:31:19.928123Z",
     "start_time": "2020-04-26T07:31:19.894147Z"
    }
   },
   "outputs": [],
   "source": [
    "resultats_partides.head(20) # Mostrem 20 primeres files"
   ]
  },
  {
   "cell_type": "markdown",
   "metadata": {},
   "source": [
    "# Percentatge de partides guanyades per cavall"
   ]
  },
  {
   "cell_type": "code",
   "execution_count": null,
   "metadata": {
    "ExecuteTime": {
     "end_time": "2020-04-26T07:31:22.784997Z",
     "start_time": "2020-04-26T07:31:22.745264Z"
    }
   },
   "outputs": [],
   "source": [
    "n_partides = len(resultats_partides)\n",
    "for i in range(2,13):\n",
    "    partides_guanyades = len(resultats_partides.loc[resultats_partides['guanyador']==i])\n",
    "    percent = (partides_guanyades / n_partides) * 100\n",
    "    print(f'Número {i}: {partides_guanyades} partides guanyades en {n_partides} partides jugades: {percent:.2f}%')"
   ]
  },
  {
   "cell_type": "markdown",
   "metadata": {},
   "source": [
    "Sortida de la simulació de 10000 jocs:"
   ]
  },
  {
   "cell_type": "raw",
   "metadata": {},
   "source": [
    "Número 2: 0 partides guanyades en 100000 partides jugades: 0.00%\n",
    "Número 3: 111 partides guanyades en 100000 partides jugades: 0.11%\n",
    "Número 4: 1572 partides guanyades en 100000 partides jugades: 1.57%\n",
    "Número 5: 7283 partides guanyades en 100000 partides jugades: 7.28%\n",
    "Número 6: 20352 partides guanyades en 100000 partides jugades: 20.35%\n",
    "Número 7: 41534 partides guanyades en 100000 partides jugades: 41.53%\n",
    "Número 8: 20135 partides guanyades en 100000 partides jugades: 20.14%\n",
    "Número 9: 7244 partides guanyades en 100000 partides jugades: 7.24%\n",
    "Número 10: 1639 partides guanyades en 100000 partides jugades: 1.64%\n",
    "Número 11: 130 partides guanyades en 100000 partides jugades: 0.13%\n",
    "Número 12: 0 partides guanyades en 100000 partides jugades: 0.00%"
   ]
  },
  {
   "cell_type": "markdown",
   "metadata": {},
   "source": [
    "## Histograma\n",
    "\n",
    "L'histograma és un gràfic mostra la suma del nombre de vegades que guanya un determinat cavall i ho representa en forma de barres. Com més altra és la barra, més vegades ha guanyat aquell cavall.\n",
    "\n",
    "La suma del valor de totes les barres ha de ser igual que el nombre de partides jugades."
   ]
  },
  {
   "cell_type": "code",
   "execution_count": null,
   "metadata": {
    "ExecuteTime": {
     "end_time": "2020-04-26T07:31:52.621738Z",
     "start_time": "2020-04-26T07:31:52.012015Z"
    },
    "scrolled": false
   },
   "outputs": [],
   "source": [
    "bar = pd.DataFrame(resultats_partides['guanyador'].value_counts())\n",
    "bar.sort_index(inplace=True)\n",
    "\n",
    "ax = bar.plot(\n",
    "    kind='bar',\n",
    "    figsize=(12,9),\n",
    "    grid=True,\n",
    "    title=f'Nombre de jocs guanyats per cavall en {n_partides} partides'\n",
    ")\n",
    "ax.set_xlabel('Cavall')\n",
    "ax.set_ylabel('Nombre de jocs guanyats')"
   ]
  },
  {
   "cell_type": "code",
   "execution_count": null,
   "metadata": {},
   "outputs": [],
   "source": []
  }
 ],
 "metadata": {
  "kernelspec": {
   "display_name": "Python [conda env:nndeploy_py36_dev]",
   "language": "python",
   "name": "conda-env-nndeploy_py36_dev-py"
  },
  "language_info": {
   "codemirror_mode": {
    "name": "ipython",
    "version": 3
   },
   "file_extension": ".py",
   "mimetype": "text/x-python",
   "name": "python",
   "nbconvert_exporter": "python",
   "pygments_lexer": "ipython3",
   "version": "3.6.7"
  },
  "toc": {
   "base_numbering": 1,
   "nav_menu": {},
   "number_sections": true,
   "sideBar": true,
   "skip_h1_title": false,
   "title_cell": "Table of Contents",
   "title_sidebar": "Contents",
   "toc_cell": false,
   "toc_position": {},
   "toc_section_display": true,
   "toc_window_display": true
  }
 },
 "nbformat": 4,
 "nbformat_minor": 2
}
